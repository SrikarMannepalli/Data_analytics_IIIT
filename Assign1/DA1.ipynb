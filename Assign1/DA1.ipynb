{
 "cells": [
  {
   "cell_type": "code",
   "execution_count": 5,
   "metadata": {
    "colab": {},
    "colab_type": "code",
    "id": "eFlUYGBm-kvS"
   },
   "outputs": [],
   "source": [
    "import warnings\n",
    "import pandas as pd\n",
    "from tabulate import tabulate\n",
    "from sklearn.metrics import roc_curve\n",
    "from sklearn.neighbors import KNeighborsClassifier\n",
    "from sklearn.model_selection import train_test_split\n",
    "warnings.filterwarnings('ignore')\n"
   ]
  },
  {
   "cell_type": "code",
   "execution_count": 6,
   "metadata": {
    "colab": {
     "base_uri": "https://localhost:8080/",
     "height": 266
    },
    "colab_type": "code",
    "id": "wOfwxFWkASGY",
    "outputId": "6bc48c1b-cdf1-476e-e27d-c469ee19adf6"
   },
   "outputs": [
    {
     "data": {
      "text/html": [
       "<div>\n",
       "<style scoped>\n",
       "    .dataframe tbody tr th:only-of-type {\n",
       "        vertical-align: middle;\n",
       "    }\n",
       "\n",
       "    .dataframe tbody tr th {\n",
       "        vertical-align: top;\n",
       "    }\n",
       "\n",
       "    .dataframe thead th {\n",
       "        text-align: right;\n",
       "    }\n",
       "</style>\n",
       "<table border=\"1\" class=\"dataframe\">\n",
       "  <thead>\n",
       "    <tr style=\"text-align: right;\">\n",
       "      <th></th>\n",
       "      <th>Sl. No.</th>\n",
       "      <th>YEAR</th>\n",
       "      <th>MONTH</th>\n",
       "      <th>DATE</th>\n",
       "      <th>ORIGIN TIME(UTC)</th>\n",
       "      <th>ORIGIN TIME(IST)</th>\n",
       "      <th>MAGNITUDE(Mw1)</th>\n",
       "      <th>MAGNITUDE(Mw2)</th>\n",
       "      <th>MAGNITUDE(Mb1)</th>\n",
       "      <th>MAGNITUDE(Mb2)</th>\n",
       "      <th>MAGNITUDE(Ms)</th>\n",
       "      <th>MAGNITUDE(Ml)</th>\n",
       "      <th>LAT (N)</th>\n",
       "      <th>LONG (E)</th>\n",
       "      <th>DEPTH (km)</th>\n",
       "      <th>Intensity(MM)</th>\n",
       "      <th>Intensity(MMI)</th>\n",
       "      <th>Intensity(MME)</th>\n",
       "      <th>LOCATION</th>\n",
       "      <th>REFERENCE</th>\n",
       "    </tr>\n",
       "  </thead>\n",
       "  <tbody>\n",
       "    <tr>\n",
       "      <th>0</th>\n",
       "      <td>1</td>\n",
       "      <td>-2474</td>\n",
       "      <td>0.0</td>\n",
       "      <td>0.0</td>\n",
       "      <td>NaN</td>\n",
       "      <td>NaN</td>\n",
       "      <td>7.5000</td>\n",
       "      <td>7.5</td>\n",
       "      <td>NaN</td>\n",
       "      <td>6.969202899</td>\n",
       "      <td>7.260619977</td>\n",
       "      <td>7.427072403</td>\n",
       "      <td>71</td>\n",
       "      <td>24</td>\n",
       "      <td>0.0</td>\n",
       "      <td>NaN</td>\n",
       "      <td>NaN</td>\n",
       "      <td>NaN</td>\n",
       "      <td>NaN</td>\n",
       "      <td>Dr STGR</td>\n",
       "    </tr>\n",
       "    <tr>\n",
       "      <th>1</th>\n",
       "      <td>2</td>\n",
       "      <td>-325</td>\n",
       "      <td>0.0</td>\n",
       "      <td>0.0</td>\n",
       "      <td>NaN</td>\n",
       "      <td>NaN</td>\n",
       "      <td>7.5000</td>\n",
       "      <td>7.5</td>\n",
       "      <td>NaN</td>\n",
       "      <td>6.969202899</td>\n",
       "      <td>7.260619977</td>\n",
       "      <td>7.427072403</td>\n",
       "      <td>71</td>\n",
       "      <td>24</td>\n",
       "      <td>0.0</td>\n",
       "      <td>NaN</td>\n",
       "      <td>NaN</td>\n",
       "      <td>NaN</td>\n",
       "      <td>NaN</td>\n",
       "      <td>Dr STGR</td>\n",
       "    </tr>\n",
       "    <tr>\n",
       "      <th>2</th>\n",
       "      <td>3</td>\n",
       "      <td>25</td>\n",
       "      <td>0.0</td>\n",
       "      <td>0.0</td>\n",
       "      <td>NaN</td>\n",
       "      <td>NaN</td>\n",
       "      <td>7.5000</td>\n",
       "      <td>7.5</td>\n",
       "      <td>NaN</td>\n",
       "      <td>6.969202899</td>\n",
       "      <td>7.260619977</td>\n",
       "      <td>7.427072403</td>\n",
       "      <td>72.9</td>\n",
       "      <td>33.72</td>\n",
       "      <td>0.0</td>\n",
       "      <td>NaN</td>\n",
       "      <td>NaN</td>\n",
       "      <td>NaN</td>\n",
       "      <td>NaN</td>\n",
       "      <td>Dr STGR</td>\n",
       "    </tr>\n",
       "    <tr>\n",
       "      <th>3</th>\n",
       "      <td>4</td>\n",
       "      <td>26</td>\n",
       "      <td>5.0</td>\n",
       "      <td>10.0</td>\n",
       "      <td>08.19.10.0</td>\n",
       "      <td>NaN</td>\n",
       "      <td>6.1397</td>\n",
       "      <td>6.1397</td>\n",
       "      <td>5.737047101</td>\n",
       "      <td>5.737047101</td>\n",
       "      <td>5.698851894</td>\n",
       "      <td>5.999685205</td>\n",
       "      <td>17.3</td>\n",
       "      <td>80.1</td>\n",
       "      <td>NaN</td>\n",
       "      <td>NaN</td>\n",
       "      <td>NaN</td>\n",
       "      <td>NaN</td>\n",
       "      <td>NaN</td>\n",
       "      <td>NEIC</td>\n",
       "    </tr>\n",
       "    <tr>\n",
       "      <th>4</th>\n",
       "      <td>5</td>\n",
       "      <td>26</td>\n",
       "      <td>5.0</td>\n",
       "      <td>10.0</td>\n",
       "      <td>08.19.10.0</td>\n",
       "      <td>NaN</td>\n",
       "      <td>6.1397</td>\n",
       "      <td>6.1397</td>\n",
       "      <td>5.737047101</td>\n",
       "      <td>5.737047101</td>\n",
       "      <td>6.075520196</td>\n",
       "      <td>5.999685205</td>\n",
       "      <td>26</td>\n",
       "      <td>97</td>\n",
       "      <td>80.0</td>\n",
       "      <td>NaN</td>\n",
       "      <td>NaN</td>\n",
       "      <td>NaN</td>\n",
       "      <td>Myanmar</td>\n",
       "      <td>G-R</td>\n",
       "    </tr>\n",
       "  </tbody>\n",
       "</table>\n",
       "</div>"
      ],
      "text/plain": [
       "   Sl. No.  YEAR  MONTH  DATE ORIGIN TIME(UTC) ORIGIN TIME(IST)  \\\n",
       "0        1 -2474    0.0   0.0              NaN              NaN   \n",
       "1        2  -325    0.0   0.0              NaN              NaN   \n",
       "2        3    25    0.0   0.0              NaN              NaN   \n",
       "3        4    26    5.0  10.0       08.19.10.0              NaN   \n",
       "4        5    26    5.0  10.0       08.19.10.0              NaN   \n",
       "\n",
       "   MAGNITUDE(Mw1) MAGNITUDE(Mw2) MAGNITUDE(Mb1) MAGNITUDE(Mb2) MAGNITUDE(Ms)  \\\n",
       "0          7.5000            7.5            NaN    6.969202899   7.260619977   \n",
       "1          7.5000            7.5            NaN    6.969202899   7.260619977   \n",
       "2          7.5000            7.5            NaN    6.969202899   7.260619977   \n",
       "3          6.1397         6.1397    5.737047101    5.737047101   5.698851894   \n",
       "4          6.1397         6.1397    5.737047101    5.737047101   6.075520196   \n",
       "\n",
       "  MAGNITUDE(Ml) LAT (N) LONG (E)  DEPTH (km) Intensity(MM)  Intensity(MMI)  \\\n",
       "0   7.427072403      71       24         0.0           NaN             NaN   \n",
       "1   7.427072403      71       24         0.0           NaN             NaN   \n",
       "2   7.427072403    72.9    33.72         0.0           NaN             NaN   \n",
       "3   5.999685205    17.3     80.1         NaN           NaN             NaN   \n",
       "4   5.999685205      26       97        80.0           NaN             NaN   \n",
       "\n",
       "   Intensity(MME) LOCATION REFERENCE  \n",
       "0             NaN      NaN   Dr STGR  \n",
       "1             NaN      NaN   Dr STGR  \n",
       "2             NaN      NaN   Dr STGR  \n",
       "3             NaN      NaN      NEIC  \n",
       "4             NaN  Myanmar       G-R  "
      ]
     },
     "execution_count": 6,
     "metadata": {},
     "output_type": "execute_result"
    }
   ],
   "source": [
    "data = pd.read_csv('data/data.csv', encoding='utf-8-sig') \n",
    "data.head()\n"
   ]
  },
  {
   "cell_type": "code",
   "execution_count": 16,
   "metadata": {},
   "outputs": [
    {
     "data": {
      "text/plain": [
       "float"
      ]
     },
     "execution_count": 16,
     "metadata": {},
     "output_type": "execute_result"
    }
   ],
   "source": [
    "type(data['LAT (N)'][23])"
   ]
  },
  {
   "cell_type": "code",
   "execution_count": 47,
   "metadata": {
    "colab": {
     "base_uri": "https://localhost:8080/",
     "height": 159
    },
    "colab_type": "code",
    "id": "XUGrTVQyZRGM",
    "outputId": "34a8422d-fb36-490f-fa7a-022667b80aa8",
    "scrolled": true
   },
   "outputs": [
    {
     "name": "stdout",
     "output_type": "stream",
     "text": [
      "| feature          |   Nulls |   Not Nulls |\n",
      "|------------------+---------+-------------|\n",
      "| ORIGIN TIME(IST) |   52563 |         426 |\n",
      "| ORIGIN TIME(UTC) |   31803 |       21186 |\n",
      "| Intensity(MMI)   |   52989 |           0 |\n",
      "| Intensity(MME)   |   52989 |           0 |\n",
      "| Intensity(MM)    |   52948 |          41 |\n",
      "| LOCATION         |   43615 |        9374 |\n"
     ]
    }
   ],
   "source": [
    "l = []\n",
    "l.append([\"ORIGIN TIME(IST)\",data['ORIGIN TIME(IST)'].isnull().sum(), data['ORIGIN TIME(IST)'].notnull().sum()])\n",
    "l.append([\"ORIGIN TIME(UTC)\",data['ORIGIN TIME(UTC)'].isnull().sum(), data['ORIGIN TIME(UTC)'].notnull().sum()])\n",
    "l.append([\"Intensity(MMI)\",data['Intensity(MMI)'].isnull().sum(), data['Intensity(MMI)'].notnull().sum()])\n",
    "l.append([\"Intensity(MME)\", data['Intensity(MME)'].isnull().sum(), data['Intensity(MME)'].notnull().sum()])\n",
    "l.append([\"Intensity(MM)\",data['Intensity(MM)'].isnull().sum(), data['Intensity(MM)'].notnull().sum()])\n",
    "l.append([\"LOCATION\",data['LOCATION'].isnull().sum(), data['LOCATION'].notnull().sum()])\n",
    "print(tabulate(l, headers=['feature','Nulls','Not Nulls'], tablefmt='orgtbl'))"
   ]
  },
  {
   "cell_type": "markdown",
   "metadata": {
    "colab_type": "text",
    "id": "mfNbUJllZN8h"
   },
   "source": [
    "We can see that the locations, origin times and intensities are mostly null. So, we cannot even reconstruct or interpolate them based on other values. So dropping those columns. Also, source is not useful in classification and so is the date. Hence dropping it too. We need to predict only Mw.(Note - Mw1 and Mw2 differ only in precision)\n"
   ]
  },
  {
   "cell_type": "code",
   "execution_count": 17,
   "metadata": {
    "colab": {
     "base_uri": "https://localhost:8080/",
     "height": 194
    },
    "colab_type": "code",
    "id": "FNSRSCC3X6vT",
    "outputId": "359b9f51-74de-44cd-c988-63ba1d2c901c"
   },
   "outputs": [
    {
     "data": {
      "text/html": [
       "<div>\n",
       "<style scoped>\n",
       "    .dataframe tbody tr th:only-of-type {\n",
       "        vertical-align: middle;\n",
       "    }\n",
       "\n",
       "    .dataframe tbody tr th {\n",
       "        vertical-align: top;\n",
       "    }\n",
       "\n",
       "    .dataframe thead th {\n",
       "        text-align: right;\n",
       "    }\n",
       "</style>\n",
       "<table border=\"1\" class=\"dataframe\">\n",
       "  <thead>\n",
       "    <tr style=\"text-align: right;\">\n",
       "      <th></th>\n",
       "      <th>LAT (N)</th>\n",
       "      <th>LONG (E)</th>\n",
       "      <th>DEPTH (km)</th>\n",
       "    </tr>\n",
       "  </thead>\n",
       "  <tbody>\n",
       "    <tr>\n",
       "      <th>0</th>\n",
       "      <td>71</td>\n",
       "      <td>24</td>\n",
       "      <td>0.0</td>\n",
       "    </tr>\n",
       "    <tr>\n",
       "      <th>1</th>\n",
       "      <td>71</td>\n",
       "      <td>24</td>\n",
       "      <td>0.0</td>\n",
       "    </tr>\n",
       "    <tr>\n",
       "      <th>2</th>\n",
       "      <td>72.9</td>\n",
       "      <td>33.72</td>\n",
       "      <td>0.0</td>\n",
       "    </tr>\n",
       "    <tr>\n",
       "      <th>3</th>\n",
       "      <td>17.3</td>\n",
       "      <td>80.1</td>\n",
       "      <td>NaN</td>\n",
       "    </tr>\n",
       "    <tr>\n",
       "      <th>4</th>\n",
       "      <td>26</td>\n",
       "      <td>97</td>\n",
       "      <td>80.0</td>\n",
       "    </tr>\n",
       "  </tbody>\n",
       "</table>\n",
       "</div>"
      ],
      "text/plain": [
       "  LAT (N) LONG (E)  DEPTH (km)\n",
       "0      71       24         0.0\n",
       "1      71       24         0.0\n",
       "2    72.9    33.72         0.0\n",
       "3    17.3     80.1         NaN\n",
       "4      26       97        80.0"
      ]
     },
     "execution_count": 17,
     "metadata": {},
     "output_type": "execute_result"
    }
   ],
   "source": [
    "features = ['LAT (N)', 'LONG (E)', 'DEPTH (km)']\n",
    "predict_features = ['MAGNITUDE(Mw1)']\n",
    "X = data[features]\n",
    "y = data[predict_features]\n",
    "X.head()"
   ]
  },
  {
   "cell_type": "code",
   "execution_count": 49,
   "metadata": {
    "colab": {
     "base_uri": "https://localhost:8080/",
     "height": 194
    },
    "colab_type": "code",
    "id": "gbis6uKHeHG2",
    "outputId": "fe610835-7c14-4615-e475-c5aed1cc8f83"
   },
   "outputs": [
    {
     "data": {
      "text/html": [
       "<div>\n",
       "<style scoped>\n",
       "    .dataframe tbody tr th:only-of-type {\n",
       "        vertical-align: middle;\n",
       "    }\n",
       "\n",
       "    .dataframe tbody tr th {\n",
       "        vertical-align: top;\n",
       "    }\n",
       "\n",
       "    .dataframe thead th {\n",
       "        text-align: right;\n",
       "    }\n",
       "</style>\n",
       "<table border=\"1\" class=\"dataframe\">\n",
       "  <thead>\n",
       "    <tr style=\"text-align: right;\">\n",
       "      <th></th>\n",
       "      <th>MAGNITUDE(Mw1)</th>\n",
       "    </tr>\n",
       "  </thead>\n",
       "  <tbody>\n",
       "    <tr>\n",
       "      <th>0</th>\n",
       "      <td>7.5000</td>\n",
       "    </tr>\n",
       "    <tr>\n",
       "      <th>1</th>\n",
       "      <td>7.5000</td>\n",
       "    </tr>\n",
       "    <tr>\n",
       "      <th>2</th>\n",
       "      <td>7.5000</td>\n",
       "    </tr>\n",
       "    <tr>\n",
       "      <th>3</th>\n",
       "      <td>6.1397</td>\n",
       "    </tr>\n",
       "    <tr>\n",
       "      <th>4</th>\n",
       "      <td>6.1397</td>\n",
       "    </tr>\n",
       "  </tbody>\n",
       "</table>\n",
       "</div>"
      ],
      "text/plain": [
       "   MAGNITUDE(Mw1)\n",
       "0          7.5000\n",
       "1          7.5000\n",
       "2          7.5000\n",
       "3          6.1397\n",
       "4          6.1397"
      ]
     },
     "execution_count": 49,
     "metadata": {
      "tags": []
     },
     "output_type": "execute_result"
    }
   ],
   "source": [
    "y.head()"
   ]
  },
  {
   "cell_type": "markdown",
   "metadata": {
    "colab_type": "text",
    "id": "jb6U2WarosyB"
   },
   "source": [
    "Not all Latitude and Longitude values are numbers. From 50573, they are strings. No necessary pattern in source for what all are given as strings. All the values given as string have source as IMD. But not all IMD given values are strings. "
   ]
  },
  {
   "cell_type": "code",
   "execution_count": 14,
   "metadata": {
    "colab": {},
    "colab_type": "code",
    "id": "CjV6-Pth5TIU"
   },
   "outputs": [],
   "source": [
    "# def clean_valuesN(x):\n",
    "#     \"\"\" If the value is a string, then remove currency symbol and delimiters\n",
    "#     otherwise, the value is numeric and can be converted\n",
    "#     \"\"\"\n",
    "#     if isinstance(x, str):\n",
    "#         return(x.replace(' ','').replace('ï¿½', '').replace('\\?','').replace('N',''))\n",
    "#     return(x)\n",
    "\n",
    "# def clean_valuesS(x):\n",
    "#     \"\"\" If the value is a string, then remove currency symbol and delimiters\n",
    "#     otherwise, the value is numeric and can be converted\n",
    "#     \"\"\"\n",
    "#     if isinstance(x, str):\n",
    "#         return(x.replace(' ','').replace('ï¿½', '').replace('\\?','').replace('S',''))\n",
    "#     return(x)\n",
    "\n",
    "# def clean_valuesE(x):\n",
    "#     \"\"\" If the value is a string, then remove currency symbol and delimiters\n",
    "#     otherwise, the value is numeric and can be converted\n",
    "#     \"\"\"\n",
    "#     if isinstance(x, str):\n",
    "#         return(x.replace(' ','').replace('ï¿½', '').replace('\\?','').replace('E',''))\n",
    "#     return(x)\n",
    "\n",
    "# def clean_valuesW(x):\n",
    "#     \"\"\" If the value is a string, then remove currency symbol and delimiters\n",
    "#     otherwise, the value is numeric and can be converted\n",
    "#     \"\"\"\n",
    "#     if isinstance(x, str):\n",
    "#         return(x.replace(' ','').replace('ï¿½', '').replace('\\?','').replace('W',''))\n",
    "#     return(x)\n",
    "import re\n",
    "def clean_values(x):\n",
    "    \"\"\"\n",
    "    Take only numbers in the string\n",
    "    \"\"\"\n",
    "    regex = r'-?\\d+.?\\d?'\n",
    "    x = str(x)\n",
    "    ret = re.findall(regex, x)\n",
    "    return ret[0]\n",
    "    "
   ]
  },
  {
   "cell_type": "code",
   "execution_count": 22,
   "metadata": {
    "colab": {
     "base_uri": "https://localhost:8080/",
     "height": 444
    },
    "colab_type": "code",
    "id": "sLZmBMEKpFcI",
    "outputId": "0ab32322-d8f1-4f87-a057-7c1f477ca2e9"
   },
   "outputs": [
    {
     "ename": "ValueError",
     "evalue": "could not convert string to float: '6,2'",
     "output_type": "error",
     "traceback": [
      "\u001b[0;31m---------------------------------------------------------------------------\u001b[0m",
      "\u001b[0;31mValueError\u001b[0m                                Traceback (most recent call last)",
      "\u001b[0;32m<ipython-input-22-e67143d0ee78>\u001b[0m in \u001b[0;36m<module>\u001b[0;34m\u001b[0m\n\u001b[1;32m      4\u001b[0m \u001b[0mX\u001b[0m\u001b[0;34m[\u001b[0m\u001b[0;34m'LAT (N)'\u001b[0m\u001b[0;34m]\u001b[0m \u001b[0;34m=\u001b[0m \u001b[0mX\u001b[0m\u001b[0;34m[\u001b[0m\u001b[0;34m'LAT (N)'\u001b[0m\u001b[0;34m]\u001b[0m\u001b[0;34m.\u001b[0m\u001b[0mapply\u001b[0m\u001b[0;34m(\u001b[0m\u001b[0mclean_values\u001b[0m\u001b[0;34m)\u001b[0m\u001b[0;34m\u001b[0m\u001b[0;34m\u001b[0m\u001b[0m\n\u001b[1;32m      5\u001b[0m \u001b[0mX\u001b[0m\u001b[0;34m[\u001b[0m\u001b[0;34m'LONG (E)'\u001b[0m\u001b[0;34m]\u001b[0m \u001b[0;34m=\u001b[0m \u001b[0mX\u001b[0m\u001b[0;34m[\u001b[0m\u001b[0;34m'LONG (E)'\u001b[0m\u001b[0;34m]\u001b[0m\u001b[0;34m.\u001b[0m\u001b[0mapply\u001b[0m\u001b[0;34m(\u001b[0m\u001b[0mclean_values\u001b[0m\u001b[0;34m)\u001b[0m\u001b[0;34m\u001b[0m\u001b[0;34m\u001b[0m\u001b[0m\n\u001b[0;32m----> 6\u001b[0;31m \u001b[0mX\u001b[0m\u001b[0;34m[\u001b[0m\u001b[0;34m'LAT (N)'\u001b[0m\u001b[0;34m]\u001b[0m \u001b[0;34m=\u001b[0m \u001b[0mX\u001b[0m\u001b[0;34m[\u001b[0m\u001b[0;34m'LAT (N)'\u001b[0m\u001b[0;34m]\u001b[0m\u001b[0;34m.\u001b[0m\u001b[0mastype\u001b[0m\u001b[0;34m(\u001b[0m\u001b[0;34m'float'\u001b[0m\u001b[0;34m)\u001b[0m\u001b[0;34m\u001b[0m\u001b[0;34m\u001b[0m\u001b[0m\n\u001b[0m\u001b[1;32m      7\u001b[0m \u001b[0;31m# X['LONG (E)'] = X['LONG (E)'].astype('float')\u001b[0m\u001b[0;34m\u001b[0m\u001b[0;34m\u001b[0m\u001b[0;34m\u001b[0m\u001b[0m\n\u001b[1;32m      8\u001b[0m \u001b[0;34m\u001b[0m\u001b[0m\n",
      "\u001b[0;32m~/.virtualenvs/ML/lib/python3.8/site-packages/pandas/core/generic.py\u001b[0m in \u001b[0;36mastype\u001b[0;34m(self, dtype, copy, errors)\u001b[0m\n\u001b[1;32m   5535\u001b[0m         \u001b[0;32melse\u001b[0m\u001b[0;34m:\u001b[0m\u001b[0;34m\u001b[0m\u001b[0;34m\u001b[0m\u001b[0m\n\u001b[1;32m   5536\u001b[0m             \u001b[0;31m# else, only a single dtype is given\u001b[0m\u001b[0;34m\u001b[0m\u001b[0;34m\u001b[0m\u001b[0;34m\u001b[0m\u001b[0m\n\u001b[0;32m-> 5537\u001b[0;31m             \u001b[0mnew_data\u001b[0m \u001b[0;34m=\u001b[0m \u001b[0mself\u001b[0m\u001b[0;34m.\u001b[0m\u001b[0m_mgr\u001b[0m\u001b[0;34m.\u001b[0m\u001b[0mastype\u001b[0m\u001b[0;34m(\u001b[0m\u001b[0mdtype\u001b[0m\u001b[0;34m=\u001b[0m\u001b[0mdtype\u001b[0m\u001b[0;34m,\u001b[0m \u001b[0mcopy\u001b[0m\u001b[0;34m=\u001b[0m\u001b[0mcopy\u001b[0m\u001b[0;34m,\u001b[0m \u001b[0merrors\u001b[0m\u001b[0;34m=\u001b[0m\u001b[0merrors\u001b[0m\u001b[0;34m,\u001b[0m\u001b[0;34m)\u001b[0m\u001b[0;34m\u001b[0m\u001b[0;34m\u001b[0m\u001b[0m\n\u001b[0m\u001b[1;32m   5538\u001b[0m             \u001b[0;32mreturn\u001b[0m \u001b[0mself\u001b[0m\u001b[0;34m.\u001b[0m\u001b[0m_constructor\u001b[0m\u001b[0;34m(\u001b[0m\u001b[0mnew_data\u001b[0m\u001b[0;34m)\u001b[0m\u001b[0;34m.\u001b[0m\u001b[0m__finalize__\u001b[0m\u001b[0;34m(\u001b[0m\u001b[0mself\u001b[0m\u001b[0;34m,\u001b[0m \u001b[0mmethod\u001b[0m\u001b[0;34m=\u001b[0m\u001b[0;34m\"astype\"\u001b[0m\u001b[0;34m)\u001b[0m\u001b[0;34m\u001b[0m\u001b[0;34m\u001b[0m\u001b[0m\n\u001b[1;32m   5539\u001b[0m \u001b[0;34m\u001b[0m\u001b[0m\n",
      "\u001b[0;32m~/.virtualenvs/ML/lib/python3.8/site-packages/pandas/core/internals/managers.py\u001b[0m in \u001b[0;36mastype\u001b[0;34m(self, dtype, copy, errors)\u001b[0m\n\u001b[1;32m    593\u001b[0m         \u001b[0mself\u001b[0m\u001b[0;34m,\u001b[0m \u001b[0mdtype\u001b[0m\u001b[0;34m,\u001b[0m \u001b[0mcopy\u001b[0m\u001b[0;34m:\u001b[0m \u001b[0mbool\u001b[0m \u001b[0;34m=\u001b[0m \u001b[0;32mFalse\u001b[0m\u001b[0;34m,\u001b[0m \u001b[0merrors\u001b[0m\u001b[0;34m:\u001b[0m \u001b[0mstr\u001b[0m \u001b[0;34m=\u001b[0m \u001b[0;34m\"raise\"\u001b[0m\u001b[0;34m\u001b[0m\u001b[0;34m\u001b[0m\u001b[0m\n\u001b[1;32m    594\u001b[0m     ) -> \"BlockManager\":\n\u001b[0;32m--> 595\u001b[0;31m         \u001b[0;32mreturn\u001b[0m \u001b[0mself\u001b[0m\u001b[0;34m.\u001b[0m\u001b[0mapply\u001b[0m\u001b[0;34m(\u001b[0m\u001b[0;34m\"astype\"\u001b[0m\u001b[0;34m,\u001b[0m \u001b[0mdtype\u001b[0m\u001b[0;34m=\u001b[0m\u001b[0mdtype\u001b[0m\u001b[0;34m,\u001b[0m \u001b[0mcopy\u001b[0m\u001b[0;34m=\u001b[0m\u001b[0mcopy\u001b[0m\u001b[0;34m,\u001b[0m \u001b[0merrors\u001b[0m\u001b[0;34m=\u001b[0m\u001b[0merrors\u001b[0m\u001b[0;34m)\u001b[0m\u001b[0;34m\u001b[0m\u001b[0;34m\u001b[0m\u001b[0m\n\u001b[0m\u001b[1;32m    596\u001b[0m \u001b[0;34m\u001b[0m\u001b[0m\n\u001b[1;32m    597\u001b[0m     def convert(\n",
      "\u001b[0;32m~/.virtualenvs/ML/lib/python3.8/site-packages/pandas/core/internals/managers.py\u001b[0m in \u001b[0;36mapply\u001b[0;34m(self, f, align_keys, **kwargs)\u001b[0m\n\u001b[1;32m    404\u001b[0m                 \u001b[0mapplied\u001b[0m \u001b[0;34m=\u001b[0m \u001b[0mb\u001b[0m\u001b[0;34m.\u001b[0m\u001b[0mapply\u001b[0m\u001b[0;34m(\u001b[0m\u001b[0mf\u001b[0m\u001b[0;34m,\u001b[0m \u001b[0;34m**\u001b[0m\u001b[0mkwargs\u001b[0m\u001b[0;34m)\u001b[0m\u001b[0;34m\u001b[0m\u001b[0;34m\u001b[0m\u001b[0m\n\u001b[1;32m    405\u001b[0m             \u001b[0;32melse\u001b[0m\u001b[0;34m:\u001b[0m\u001b[0;34m\u001b[0m\u001b[0;34m\u001b[0m\u001b[0m\n\u001b[0;32m--> 406\u001b[0;31m                 \u001b[0mapplied\u001b[0m \u001b[0;34m=\u001b[0m \u001b[0mgetattr\u001b[0m\u001b[0;34m(\u001b[0m\u001b[0mb\u001b[0m\u001b[0;34m,\u001b[0m \u001b[0mf\u001b[0m\u001b[0;34m)\u001b[0m\u001b[0;34m(\u001b[0m\u001b[0;34m**\u001b[0m\u001b[0mkwargs\u001b[0m\u001b[0;34m)\u001b[0m\u001b[0;34m\u001b[0m\u001b[0;34m\u001b[0m\u001b[0m\n\u001b[0m\u001b[1;32m    407\u001b[0m             \u001b[0mresult_blocks\u001b[0m \u001b[0;34m=\u001b[0m \u001b[0m_extend_blocks\u001b[0m\u001b[0;34m(\u001b[0m\u001b[0mapplied\u001b[0m\u001b[0;34m,\u001b[0m \u001b[0mresult_blocks\u001b[0m\u001b[0;34m)\u001b[0m\u001b[0;34m\u001b[0m\u001b[0;34m\u001b[0m\u001b[0m\n\u001b[1;32m    408\u001b[0m \u001b[0;34m\u001b[0m\u001b[0m\n",
      "\u001b[0;32m~/.virtualenvs/ML/lib/python3.8/site-packages/pandas/core/internals/blocks.py\u001b[0m in \u001b[0;36mastype\u001b[0;34m(self, dtype, copy, errors)\u001b[0m\n\u001b[1;32m    587\u001b[0m             \u001b[0mvals1d\u001b[0m \u001b[0;34m=\u001b[0m \u001b[0mvalues\u001b[0m\u001b[0;34m.\u001b[0m\u001b[0mravel\u001b[0m\u001b[0;34m(\u001b[0m\u001b[0;34m)\u001b[0m\u001b[0;34m\u001b[0m\u001b[0;34m\u001b[0m\u001b[0m\n\u001b[1;32m    588\u001b[0m             \u001b[0;32mtry\u001b[0m\u001b[0;34m:\u001b[0m\u001b[0;34m\u001b[0m\u001b[0;34m\u001b[0m\u001b[0m\n\u001b[0;32m--> 589\u001b[0;31m                 \u001b[0mvalues\u001b[0m \u001b[0;34m=\u001b[0m \u001b[0mastype_nansafe\u001b[0m\u001b[0;34m(\u001b[0m\u001b[0mvals1d\u001b[0m\u001b[0;34m,\u001b[0m \u001b[0mdtype\u001b[0m\u001b[0;34m,\u001b[0m \u001b[0mcopy\u001b[0m\u001b[0;34m=\u001b[0m\u001b[0;32mTrue\u001b[0m\u001b[0;34m)\u001b[0m\u001b[0;34m\u001b[0m\u001b[0;34m\u001b[0m\u001b[0m\n\u001b[0m\u001b[1;32m    590\u001b[0m             \u001b[0;32mexcept\u001b[0m \u001b[0;34m(\u001b[0m\u001b[0mValueError\u001b[0m\u001b[0;34m,\u001b[0m \u001b[0mTypeError\u001b[0m\u001b[0;34m)\u001b[0m\u001b[0;34m:\u001b[0m\u001b[0;34m\u001b[0m\u001b[0;34m\u001b[0m\u001b[0m\n\u001b[1;32m    591\u001b[0m                 \u001b[0;31m# e.g. astype_nansafe can fail on object-dtype of strings\u001b[0m\u001b[0;34m\u001b[0m\u001b[0;34m\u001b[0m\u001b[0;34m\u001b[0m\u001b[0m\n",
      "\u001b[0;32m~/.virtualenvs/ML/lib/python3.8/site-packages/pandas/core/dtypes/cast.py\u001b[0m in \u001b[0;36mastype_nansafe\u001b[0;34m(arr, dtype, copy, skipna)\u001b[0m\n\u001b[1;32m    987\u001b[0m     \u001b[0;32mif\u001b[0m \u001b[0mcopy\u001b[0m \u001b[0;32mor\u001b[0m \u001b[0mis_object_dtype\u001b[0m\u001b[0;34m(\u001b[0m\u001b[0marr\u001b[0m\u001b[0;34m)\u001b[0m \u001b[0;32mor\u001b[0m \u001b[0mis_object_dtype\u001b[0m\u001b[0;34m(\u001b[0m\u001b[0mdtype\u001b[0m\u001b[0;34m)\u001b[0m\u001b[0;34m:\u001b[0m\u001b[0;34m\u001b[0m\u001b[0;34m\u001b[0m\u001b[0m\n\u001b[1;32m    988\u001b[0m         \u001b[0;31m# Explicit copy, or required since NumPy can't view from / to object.\u001b[0m\u001b[0;34m\u001b[0m\u001b[0;34m\u001b[0m\u001b[0;34m\u001b[0m\u001b[0m\n\u001b[0;32m--> 989\u001b[0;31m         \u001b[0;32mreturn\u001b[0m \u001b[0marr\u001b[0m\u001b[0;34m.\u001b[0m\u001b[0mastype\u001b[0m\u001b[0;34m(\u001b[0m\u001b[0mdtype\u001b[0m\u001b[0;34m,\u001b[0m \u001b[0mcopy\u001b[0m\u001b[0;34m=\u001b[0m\u001b[0;32mTrue\u001b[0m\u001b[0;34m)\u001b[0m\u001b[0;34m\u001b[0m\u001b[0;34m\u001b[0m\u001b[0m\n\u001b[0m\u001b[1;32m    990\u001b[0m \u001b[0;34m\u001b[0m\u001b[0m\n\u001b[1;32m    991\u001b[0m     \u001b[0;32mreturn\u001b[0m \u001b[0marr\u001b[0m\u001b[0;34m.\u001b[0m\u001b[0mview\u001b[0m\u001b[0;34m(\u001b[0m\u001b[0mdtype\u001b[0m\u001b[0;34m)\u001b[0m\u001b[0;34m\u001b[0m\u001b[0;34m\u001b[0m\u001b[0m\n",
      "\u001b[0;31mValueError\u001b[0m: could not convert string to float: '6,2'"
     ]
    }
   ],
   "source": [
    "# Handling string values in Latitudes and Longitudes.\n",
    "# X['LAT (N)'] = X['LAT (N)'].apply(clean_valuesN).apply(clean_valuesS)\n",
    "# X['LONG (E)'] = X['LONG (E)'].apply(clean_valuesE).apply(clean_valuesW)\n",
    "X['LAT (N)'] = X['LAT (N)'].apply(clean_values)\n",
    "X['LONG (E)'] = X['LONG (E)'].apply(clean_values)\n",
    "# X['LAT (N)'] = X['LAT (N)'].astype('float')\n",
    "# X['LONG (E)'] = X['LONG (E)'].astype('float')\n",
    "\n",
    "print(X['LAT (N)'].tail())\n",
    "print(X['LONG (E)'].tail())\n",
    "# convert to csv and check to see what is the isse\n",
    "# newdt = X['LAT (N)']\n",
    "# newdt.to_csv('lat.csv')"
   ]
  },
  {
   "cell_type": "markdown",
   "metadata": {
    "colab_type": "text",
    "id": "IAdWraHGdtZh"
   },
   "source": [
    "Setting a random threshold of 4.5 currently and creating the prediction class. Need to do this smartly.\n"
   ]
  },
  {
   "cell_type": "code",
   "execution_count": 52,
   "metadata": {
    "colab": {
     "base_uri": "https://localhost:8080/",
     "height": 194
    },
    "colab_type": "code",
    "id": "2ozW-a5QdxoJ",
    "outputId": "3bf56d35-1847-41b6-ac34-135935f7efea"
   },
   "outputs": [
    {
     "data": {
      "text/html": [
       "<div>\n",
       "<style scoped>\n",
       "    .dataframe tbody tr th:only-of-type {\n",
       "        vertical-align: middle;\n",
       "    }\n",
       "\n",
       "    .dataframe tbody tr th {\n",
       "        vertical-align: top;\n",
       "    }\n",
       "\n",
       "    .dataframe thead th {\n",
       "        text-align: right;\n",
       "    }\n",
       "</style>\n",
       "<table border=\"1\" class=\"dataframe\">\n",
       "  <thead>\n",
       "    <tr style=\"text-align: right;\">\n",
       "      <th></th>\n",
       "      <th>MAGNITUDE(Mw1)</th>\n",
       "    </tr>\n",
       "  </thead>\n",
       "  <tbody>\n",
       "    <tr>\n",
       "      <th>0</th>\n",
       "      <td>1.0</td>\n",
       "    </tr>\n",
       "    <tr>\n",
       "      <th>1</th>\n",
       "      <td>1.0</td>\n",
       "    </tr>\n",
       "    <tr>\n",
       "      <th>2</th>\n",
       "      <td>1.0</td>\n",
       "    </tr>\n",
       "    <tr>\n",
       "      <th>3</th>\n",
       "      <td>1.0</td>\n",
       "    </tr>\n",
       "    <tr>\n",
       "      <th>4</th>\n",
       "      <td>1.0</td>\n",
       "    </tr>\n",
       "  </tbody>\n",
       "</table>\n",
       "</div>"
      ],
      "text/plain": [
       "   MAGNITUDE(Mw1)\n",
       "0             1.0\n",
       "1             1.0\n",
       "2             1.0\n",
       "3             1.0\n",
       "4             1.0"
      ]
     },
     "execution_count": 52,
     "metadata": {
      "tags": []
     },
     "output_type": "execute_result"
    }
   ],
   "source": [
    "thresh  = 4.5\n",
    "y['MAGNITUDE(Mw1)'].values[y['MAGNITUDE(Mw1)'] < thresh] = 0\n",
    "y['MAGNITUDE(Mw1)'].values[y['MAGNITUDE(Mw1)'] >= thresh ] = 1\n",
    "y.head()"
   ]
  },
  {
   "cell_type": "code",
   "execution_count": 53,
   "metadata": {
    "colab": {
     "base_uri": "https://localhost:8080/",
     "height": 88
    },
    "colab_type": "code",
    "id": "Uao4Njd6e-dQ",
    "outputId": "2057e361-ea83-4a89-b81a-4a33eba9169b"
   },
   "outputs": [
    {
     "name": "stdout",
     "output_type": "stream",
     "text": [
      "Total number of samples:  52989\n",
      "Number of negative samples:  21736\n",
      "Number of positive samples:  19199\n",
      "Number of null values:  12054\n"
     ]
    }
   ],
   "source": [
    "print(\"Total number of samples: \",y.size)\n",
    "print(\"Number of negative samples: \",y['MAGNITUDE(Mw1)'].value_counts()[0.0])\n",
    "print(\"Number of positive samples: \",y['MAGNITUDE(Mw1)'].value_counts()[1.0])\n",
    "print(\"Number of null values: \", y['MAGNITUDE(Mw1)'].isnull().sum())"
   ]
  },
  {
   "cell_type": "markdown",
   "metadata": {
    "colab_type": "text",
    "id": "b8GFxoBygiMf"
   },
   "source": [
    "Dropping out all samples with nan in magnitude column"
   ]
  },
  {
   "cell_type": "code",
   "execution_count": 54,
   "metadata": {
    "colab": {
     "base_uri": "https://localhost:8080/",
     "height": 88
    },
    "colab_type": "code",
    "id": "ryDjYWengZJB",
    "outputId": "89b1a1cb-dca6-449d-df2f-5d8691c99cb9"
   },
   "outputs": [
    {
     "name": "stdout",
     "output_type": "stream",
     "text": [
      "Total number of samples:  40935\n",
      "Number of negative samples:  21736\n",
      "Number of positive samples:  19199\n",
      "Number of null values:  0\n"
     ]
    }
   ],
   "source": [
    "X = X[pd.notnull(y['MAGNITUDE(Mw1)'])]\n",
    "y = y[pd.notnull(y['MAGNITUDE(Mw1)'])]\n",
    "print(\"Total number of samples: \",y.size)\n",
    "print(\"Number of negative samples: \",y['MAGNITUDE(Mw1)'].value_counts()[0.0])\n",
    "print(\"Number of positive samples: \",y['MAGNITUDE(Mw1)'].value_counts()[1.0])\n",
    "print(\"Number of null values: \", y['MAGNITUDE(Mw1)'].isnull().sum())"
   ]
  },
  {
   "cell_type": "markdown",
   "metadata": {
    "colab_type": "text",
    "id": "gUiuK7Aah3Ha"
   },
   "source": [
    "Since the number of positive samples and negative samples are nearly equal,we need not worry about class imbalance."
   ]
  },
  {
   "cell_type": "code",
   "execution_count": 55,
   "metadata": {
    "colab": {
     "base_uri": "https://localhost:8080/",
     "height": 194
    },
    "colab_type": "code",
    "id": "6WDFKmxliA4y",
    "outputId": "839445f6-8dd7-474b-c32a-2815986653a6"
   },
   "outputs": [
    {
     "data": {
      "text/html": [
       "<div>\n",
       "<style scoped>\n",
       "    .dataframe tbody tr th:only-of-type {\n",
       "        vertical-align: middle;\n",
       "    }\n",
       "\n",
       "    .dataframe tbody tr th {\n",
       "        vertical-align: top;\n",
       "    }\n",
       "\n",
       "    .dataframe thead th {\n",
       "        text-align: right;\n",
       "    }\n",
       "</style>\n",
       "<table border=\"1\" class=\"dataframe\">\n",
       "  <thead>\n",
       "    <tr style=\"text-align: right;\">\n",
       "      <th></th>\n",
       "      <th>LAT (N)</th>\n",
       "      <th>LONG (E)</th>\n",
       "      <th>DEPTH (km)</th>\n",
       "    </tr>\n",
       "  </thead>\n",
       "  <tbody>\n",
       "    <tr>\n",
       "      <th>0</th>\n",
       "      <td>71</td>\n",
       "      <td>24</td>\n",
       "      <td>0.000000</td>\n",
       "    </tr>\n",
       "    <tr>\n",
       "      <th>1</th>\n",
       "      <td>71</td>\n",
       "      <td>24</td>\n",
       "      <td>0.000000</td>\n",
       "    </tr>\n",
       "    <tr>\n",
       "      <th>2</th>\n",
       "      <td>72.9</td>\n",
       "      <td>33.72</td>\n",
       "      <td>0.000000</td>\n",
       "    </tr>\n",
       "    <tr>\n",
       "      <th>3</th>\n",
       "      <td>17.3</td>\n",
       "      <td>80.1</td>\n",
       "      <td>47.063533</td>\n",
       "    </tr>\n",
       "    <tr>\n",
       "      <th>4</th>\n",
       "      <td>26</td>\n",
       "      <td>97</td>\n",
       "      <td>80.000000</td>\n",
       "    </tr>\n",
       "  </tbody>\n",
       "</table>\n",
       "</div>"
      ],
      "text/plain": [
       "  LAT (N) LONG (E)  DEPTH (km)\n",
       "0      71       24    0.000000\n",
       "1      71       24    0.000000\n",
       "2    72.9    33.72    0.000000\n",
       "3    17.3     80.1   47.063533\n",
       "4      26       97   80.000000"
      ]
     },
     "execution_count": 55,
     "metadata": {
      "tags": []
     },
     "output_type": "execute_result"
    }
   ],
   "source": [
    "# HANDLE MISSING VALUES IN DEPTH COLUMN\n",
    "# https://www.kaggle.com/learn/data-cleaning\n",
    "# Filling with the average value for now\n",
    "mean_depth = X['DEPTH (km)'].mean()\n",
    "X['DEPTH (km)'] = X['DEPTH (km)'].fillna(mean_depth)\n",
    "X.head()"
   ]
  },
  {
   "cell_type": "code",
   "execution_count": 56,
   "metadata": {
    "colab": {},
    "colab_type": "code",
    "id": "_2EQGGf7im9U"
   },
   "outputs": [],
   "source": [
    "# Splitting the dataset into training, testing and validation sets\n",
    "X_train, X_test, y_train, y_test = train_test_split(X, y, test_size=0.2, random_state=1)\n",
    "X_train, X_val, y_train, y_val = train_test_split(X_train, y_train, test_size=0.2, random_state=1)"
   ]
  },
  {
   "cell_type": "code",
   "execution_count": 57,
   "metadata": {
    "colab": {
     "base_uri": "https://localhost:8080/",
     "height": 141
    },
    "colab_type": "code",
    "id": "UCAvWX6Li0AI",
    "outputId": "ddfc35d6-949c-4cbe-e1a6-923a1be6cec5"
   },
   "outputs": [
    {
     "name": "stdout",
     "output_type": "stream",
     "text": [
      "Number of positive samples in train set 12176\n",
      "Number of negative samples in train set 14022\n",
      "Number of positive samples in val set 3100\n",
      "Number of negative samples in val set 3450\n",
      "Number of positive samples in test set 3923\n",
      "Number of negative samples in test set 4264\n",
      "We can see that all the sets are fairly balanced\n"
     ]
    }
   ],
   "source": [
    "print(\"Number of positive samples in train set\",y_train['MAGNITUDE(Mw1)'].value_counts()[1.0])\n",
    "print(\"Number of negative samples in train set\",y_train['MAGNITUDE(Mw1)'].value_counts()[0.0])\n",
    "print(\"Number of positive samples in val set\",y_val['MAGNITUDE(Mw1)'].value_counts()[1.0])\n",
    "print(\"Number of negative samples in val set\",y_val['MAGNITUDE(Mw1)'].value_counts()[0.0])\n",
    "print(\"Number of positive samples in test set\",y_test['MAGNITUDE(Mw1)'].value_counts()[1.0])\n",
    "print(\"Number of negative samples in test set\",y_test['MAGNITUDE(Mw1)'].value_counts()[0.0])\n",
    "print(\"We can see that all the sets are fairly balanced\")"
   ]
  },
  {
   "cell_type": "markdown",
   "metadata": {
    "colab_type": "text",
    "id": "9SrBZT3AnVMe"
   },
   "source": [
    "### KNN\n"
   ]
  },
  {
   "cell_type": "code",
   "execution_count": 34,
   "metadata": {
    "colab": {},
    "colab_type": "code",
    "id": "dGS-3Y-PkPIE"
   },
   "outputs": [],
   "source": [
    "knn_model = KNeighborsClassifier(n_neighbors=5)\n",
    "knn_model.fit(X_train,y_train)\n",
    "# accuracy, roc curve and other statistics"
   ]
  }
 ],
 "metadata": {
  "colab": {
   "collapsed_sections": [],
   "name": "DA1.ipynb",
   "provenance": []
  },
  "kernelspec": {
   "display_name": "Python 3",
   "language": "python",
   "name": "python3"
  },
  "language_info": {
   "codemirror_mode": {
    "name": "ipython",
    "version": 3
   },
   "file_extension": ".py",
   "mimetype": "text/x-python",
   "name": "python",
   "nbconvert_exporter": "python",
   "pygments_lexer": "ipython3",
   "version": "3.8.2"
  }
 },
 "nbformat": 4,
 "nbformat_minor": 1
}
