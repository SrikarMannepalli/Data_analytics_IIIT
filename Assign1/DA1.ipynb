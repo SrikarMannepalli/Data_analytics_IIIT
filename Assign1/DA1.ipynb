{
  "nbformat": 4,
  "nbformat_minor": 0,
  "metadata": {
    "colab": {
      "name": "DA1.ipynb",
      "provenance": [],
      "collapsed_sections": []
    },
    "kernelspec": {
      "name": "python3",
      "display_name": "Python 3"
    }
  },
  "cells": [
    {
      "cell_type": "code",
      "metadata": {
        "id": "eFlUYGBm-kvS",
        "colab_type": "code",
        "colab": {}
      },
      "source": [
        "import pandas as pd\n",
        "from tabulate import tabulate\n",
        "from sklearn.metrics import roc_curve\n",
        "from sklearn.neighbors import KNeighborsClassifier\n",
        "from sklearn.model_selection import train_test_split"
      ],
      "execution_count": 45,
      "outputs": []
    },
    {
      "cell_type": "code",
      "metadata": {
        "id": "wOfwxFWkASGY",
        "colab_type": "code",
        "colab": {
          "base_uri": "https://localhost:8080/",
          "height": 266
        },
        "outputId": "6bc48c1b-cdf1-476e-e27d-c469ee19adf6"
      },
      "source": [
        "data = pd.read_csv('data.csv', encoding='utf-8-sig') \n",
        "data.head()"
      ],
      "execution_count": 46,
      "outputs": [
        {
          "output_type": "stream",
          "text": [
            "/usr/local/lib/python3.6/dist-packages/IPython/core/interactiveshell.py:2718: DtypeWarning: Columns (5,7,9,10,11,12,13,15) have mixed types.Specify dtype option on import or set low_memory=False.\n",
            "  interactivity=interactivity, compiler=compiler, result=result)\n"
          ],
          "name": "stderr"
        },
        {
          "output_type": "execute_result",
          "data": {
            "text/html": [
              "<div>\n",
              "<style scoped>\n",
              "    .dataframe tbody tr th:only-of-type {\n",
              "        vertical-align: middle;\n",
              "    }\n",
              "\n",
              "    .dataframe tbody tr th {\n",
              "        vertical-align: top;\n",
              "    }\n",
              "\n",
              "    .dataframe thead th {\n",
              "        text-align: right;\n",
              "    }\n",
              "</style>\n",
              "<table border=\"1\" class=\"dataframe\">\n",
              "  <thead>\n",
              "    <tr style=\"text-align: right;\">\n",
              "      <th></th>\n",
              "      <th>Sl. No.</th>\n",
              "      <th>YEAR</th>\n",
              "      <th>MONTH</th>\n",
              "      <th>DATE</th>\n",
              "      <th>ORIGIN TIME(UTC)</th>\n",
              "      <th>ORIGIN TIME(IST)</th>\n",
              "      <th>MAGNITUDE(Mw1)</th>\n",
              "      <th>MAGNITUDE(Mw2)</th>\n",
              "      <th>MAGNITUDE(Mb1)</th>\n",
              "      <th>MAGNITUDE(Mb2)</th>\n",
              "      <th>MAGNITUDE(Ms)</th>\n",
              "      <th>MAGNITUDE(Ml)</th>\n",
              "      <th>LAT (N)</th>\n",
              "      <th>LONG (E)</th>\n",
              "      <th>DEPTH (km)</th>\n",
              "      <th>Intensity(MM)</th>\n",
              "      <th>Intensity(MMI)</th>\n",
              "      <th>Intensity(MME)</th>\n",
              "      <th>LOCATION</th>\n",
              "      <th>REFERENCE</th>\n",
              "    </tr>\n",
              "  </thead>\n",
              "  <tbody>\n",
              "    <tr>\n",
              "      <th>0</th>\n",
              "      <td>1</td>\n",
              "      <td>-2474</td>\n",
              "      <td>0.0</td>\n",
              "      <td>0.0</td>\n",
              "      <td>NaN</td>\n",
              "      <td>NaN</td>\n",
              "      <td>7.5000</td>\n",
              "      <td>7.5</td>\n",
              "      <td>NaN</td>\n",
              "      <td>6.969202899</td>\n",
              "      <td>7.260619977</td>\n",
              "      <td>7.427072403</td>\n",
              "      <td>71</td>\n",
              "      <td>24</td>\n",
              "      <td>0.0</td>\n",
              "      <td>NaN</td>\n",
              "      <td>NaN</td>\n",
              "      <td>NaN</td>\n",
              "      <td>NaN</td>\n",
              "      <td>Dr STGR</td>\n",
              "    </tr>\n",
              "    <tr>\n",
              "      <th>1</th>\n",
              "      <td>2</td>\n",
              "      <td>-325</td>\n",
              "      <td>0.0</td>\n",
              "      <td>0.0</td>\n",
              "      <td>NaN</td>\n",
              "      <td>NaN</td>\n",
              "      <td>7.5000</td>\n",
              "      <td>7.5</td>\n",
              "      <td>NaN</td>\n",
              "      <td>6.969202899</td>\n",
              "      <td>7.260619977</td>\n",
              "      <td>7.427072403</td>\n",
              "      <td>71</td>\n",
              "      <td>24</td>\n",
              "      <td>0.0</td>\n",
              "      <td>NaN</td>\n",
              "      <td>NaN</td>\n",
              "      <td>NaN</td>\n",
              "      <td>NaN</td>\n",
              "      <td>Dr STGR</td>\n",
              "    </tr>\n",
              "    <tr>\n",
              "      <th>2</th>\n",
              "      <td>3</td>\n",
              "      <td>25</td>\n",
              "      <td>0.0</td>\n",
              "      <td>0.0</td>\n",
              "      <td>NaN</td>\n",
              "      <td>NaN</td>\n",
              "      <td>7.5000</td>\n",
              "      <td>7.5</td>\n",
              "      <td>NaN</td>\n",
              "      <td>6.969202899</td>\n",
              "      <td>7.260619977</td>\n",
              "      <td>7.427072403</td>\n",
              "      <td>72.9</td>\n",
              "      <td>33.72</td>\n",
              "      <td>0.0</td>\n",
              "      <td>NaN</td>\n",
              "      <td>NaN</td>\n",
              "      <td>NaN</td>\n",
              "      <td>NaN</td>\n",
              "      <td>Dr STGR</td>\n",
              "    </tr>\n",
              "    <tr>\n",
              "      <th>3</th>\n",
              "      <td>4</td>\n",
              "      <td>26</td>\n",
              "      <td>5.0</td>\n",
              "      <td>10.0</td>\n",
              "      <td>08.19.10.0</td>\n",
              "      <td>NaN</td>\n",
              "      <td>6.1397</td>\n",
              "      <td>6.1397</td>\n",
              "      <td>5.737047101</td>\n",
              "      <td>5.737047101</td>\n",
              "      <td>5.698851894</td>\n",
              "      <td>5.999685205</td>\n",
              "      <td>17.3</td>\n",
              "      <td>80.1</td>\n",
              "      <td>NaN</td>\n",
              "      <td>NaN</td>\n",
              "      <td>NaN</td>\n",
              "      <td>NaN</td>\n",
              "      <td>NaN</td>\n",
              "      <td>NEIC</td>\n",
              "    </tr>\n",
              "    <tr>\n",
              "      <th>4</th>\n",
              "      <td>5</td>\n",
              "      <td>26</td>\n",
              "      <td>5.0</td>\n",
              "      <td>10.0</td>\n",
              "      <td>08.19.10.0</td>\n",
              "      <td>NaN</td>\n",
              "      <td>6.1397</td>\n",
              "      <td>6.1397</td>\n",
              "      <td>5.737047101</td>\n",
              "      <td>5.737047101</td>\n",
              "      <td>6.075520196</td>\n",
              "      <td>5.999685205</td>\n",
              "      <td>26</td>\n",
              "      <td>97</td>\n",
              "      <td>80.0</td>\n",
              "      <td>NaN</td>\n",
              "      <td>NaN</td>\n",
              "      <td>NaN</td>\n",
              "      <td>Myanmar</td>\n",
              "      <td>G-R</td>\n",
              "    </tr>\n",
              "  </tbody>\n",
              "</table>\n",
              "</div>"
            ],
            "text/plain": [
              "   Sl. No.  YEAR  MONTH  ...  Intensity(MME) LOCATION REFERENCE\n",
              "0        1 -2474    0.0  ...             NaN      NaN   Dr STGR\n",
              "1        2  -325    0.0  ...             NaN      NaN   Dr STGR\n",
              "2        3    25    0.0  ...             NaN      NaN   Dr STGR\n",
              "3        4    26    5.0  ...             NaN      NaN      NEIC\n",
              "4        5    26    5.0  ...             NaN  Myanmar       G-R\n",
              "\n",
              "[5 rows x 20 columns]"
            ]
          },
          "metadata": {
            "tags": []
          },
          "execution_count": 46
        }
      ]
    },
    {
      "cell_type": "code",
      "metadata": {
        "id": "XUGrTVQyZRGM",
        "colab_type": "code",
        "colab": {
          "base_uri": "https://localhost:8080/",
          "height": 159
        },
        "outputId": "34a8422d-fb36-490f-fa7a-022667b80aa8"
      },
      "source": [
        "l = []\n",
        "l.append([\"ORIGIN TIME(IST)\",data['ORIGIN TIME(IST)'].isnull().sum(), data['ORIGIN TIME(IST)'].notnull().sum()])\n",
        "l.append([\"ORIGIN TIME(UTC)\",data['ORIGIN TIME(UTC)'].isnull().sum(), data['ORIGIN TIME(UTC)'].notnull().sum()])\n",
        "l.append([\"Intensity(MMI)\",data['Intensity(MMI)'].isnull().sum(), data['Intensity(MMI)'].notnull().sum()])\n",
        "l.append([\"Intensity(MME)\", data['Intensity(MME)'].isnull().sum(), data['Intensity(MME)'].notnull().sum()])\n",
        "l.append([\"Intensity(MM)\",data['Intensity(MM)'].isnull().sum(), data['Intensity(MM)'].notnull().sum()])\n",
        "l.append([\"LOCATION\",data['LOCATION'].isnull().sum(), data['LOCATION'].notnull().sum()])\n",
        "print(tabulate(l, headers=['feature','Nulls','Not Nulls'], tablefmt='orgtbl'))"
      ],
      "execution_count": 47,
      "outputs": [
        {
          "output_type": "stream",
          "text": [
            "| feature          |   Nulls |   Not Nulls |\n",
            "|------------------+---------+-------------|\n",
            "| ORIGIN TIME(IST) |   52563 |         426 |\n",
            "| ORIGIN TIME(UTC) |   31803 |       21186 |\n",
            "| Intensity(MMI)   |   52989 |           0 |\n",
            "| Intensity(MME)   |   52989 |           0 |\n",
            "| Intensity(MM)    |   52948 |          41 |\n",
            "| LOCATION         |   43615 |        9374 |\n"
          ],
          "name": "stdout"
        }
      ]
    },
    {
      "cell_type": "markdown",
      "metadata": {
        "id": "mfNbUJllZN8h",
        "colab_type": "text"
      },
      "source": [
        "We can see that the locations, origin times and intensities are mostly null. So, we cannot even reconstruct or interpolate them based on other values. So dropping those columns. Also, source is not useful in classification and so is the date. Hence dropping it too. We need to predict only Mw.(Note - Mw1 and Mw2 differ only in precision)\n"
      ]
    },
    {
      "cell_type": "code",
      "metadata": {
        "id": "FNSRSCC3X6vT",
        "colab_type": "code",
        "colab": {
          "base_uri": "https://localhost:8080/",
          "height": 194
        },
        "outputId": "359b9f51-74de-44cd-c988-63ba1d2c901c"
      },
      "source": [
        "features = ['LAT (N)', 'LONG (E)', 'DEPTH (km)']\n",
        "predict_features = ['MAGNITUDE(Mw1)']\n",
        "X = data[features]\n",
        "y = data[predict_features]\n",
        "X.head()"
      ],
      "execution_count": 63,
      "outputs": [
        {
          "output_type": "execute_result",
          "data": {
            "text/html": [
              "<div>\n",
              "<style scoped>\n",
              "    .dataframe tbody tr th:only-of-type {\n",
              "        vertical-align: middle;\n",
              "    }\n",
              "\n",
              "    .dataframe tbody tr th {\n",
              "        vertical-align: top;\n",
              "    }\n",
              "\n",
              "    .dataframe thead th {\n",
              "        text-align: right;\n",
              "    }\n",
              "</style>\n",
              "<table border=\"1\" class=\"dataframe\">\n",
              "  <thead>\n",
              "    <tr style=\"text-align: right;\">\n",
              "      <th></th>\n",
              "      <th>LAT (N)</th>\n",
              "      <th>LONG (E)</th>\n",
              "      <th>DEPTH (km)</th>\n",
              "    </tr>\n",
              "  </thead>\n",
              "  <tbody>\n",
              "    <tr>\n",
              "      <th>0</th>\n",
              "      <td>71</td>\n",
              "      <td>24</td>\n",
              "      <td>0.0</td>\n",
              "    </tr>\n",
              "    <tr>\n",
              "      <th>1</th>\n",
              "      <td>71</td>\n",
              "      <td>24</td>\n",
              "      <td>0.0</td>\n",
              "    </tr>\n",
              "    <tr>\n",
              "      <th>2</th>\n",
              "      <td>72.9</td>\n",
              "      <td>33.72</td>\n",
              "      <td>0.0</td>\n",
              "    </tr>\n",
              "    <tr>\n",
              "      <th>3</th>\n",
              "      <td>17.3</td>\n",
              "      <td>80.1</td>\n",
              "      <td>NaN</td>\n",
              "    </tr>\n",
              "    <tr>\n",
              "      <th>4</th>\n",
              "      <td>26</td>\n",
              "      <td>97</td>\n",
              "      <td>80.0</td>\n",
              "    </tr>\n",
              "  </tbody>\n",
              "</table>\n",
              "</div>"
            ],
            "text/plain": [
              "  LAT (N) LONG (E)  DEPTH (km)\n",
              "0      71       24         0.0\n",
              "1      71       24         0.0\n",
              "2    72.9    33.72         0.0\n",
              "3    17.3     80.1         NaN\n",
              "4      26       97        80.0"
            ]
          },
          "metadata": {
            "tags": []
          },
          "execution_count": 63
        }
      ]
    },
    {
      "cell_type": "code",
      "metadata": {
        "id": "gbis6uKHeHG2",
        "colab_type": "code",
        "colab": {
          "base_uri": "https://localhost:8080/",
          "height": 194
        },
        "outputId": "fe610835-7c14-4615-e475-c5aed1cc8f83"
      },
      "source": [
        "y.head()"
      ],
      "execution_count": 49,
      "outputs": [
        {
          "output_type": "execute_result",
          "data": {
            "text/html": [
              "<div>\n",
              "<style scoped>\n",
              "    .dataframe tbody tr th:only-of-type {\n",
              "        vertical-align: middle;\n",
              "    }\n",
              "\n",
              "    .dataframe tbody tr th {\n",
              "        vertical-align: top;\n",
              "    }\n",
              "\n",
              "    .dataframe thead th {\n",
              "        text-align: right;\n",
              "    }\n",
              "</style>\n",
              "<table border=\"1\" class=\"dataframe\">\n",
              "  <thead>\n",
              "    <tr style=\"text-align: right;\">\n",
              "      <th></th>\n",
              "      <th>MAGNITUDE(Mw1)</th>\n",
              "    </tr>\n",
              "  </thead>\n",
              "  <tbody>\n",
              "    <tr>\n",
              "      <th>0</th>\n",
              "      <td>7.5000</td>\n",
              "    </tr>\n",
              "    <tr>\n",
              "      <th>1</th>\n",
              "      <td>7.5000</td>\n",
              "    </tr>\n",
              "    <tr>\n",
              "      <th>2</th>\n",
              "      <td>7.5000</td>\n",
              "    </tr>\n",
              "    <tr>\n",
              "      <th>3</th>\n",
              "      <td>6.1397</td>\n",
              "    </tr>\n",
              "    <tr>\n",
              "      <th>4</th>\n",
              "      <td>6.1397</td>\n",
              "    </tr>\n",
              "  </tbody>\n",
              "</table>\n",
              "</div>"
            ],
            "text/plain": [
              "   MAGNITUDE(Mw1)\n",
              "0          7.5000\n",
              "1          7.5000\n",
              "2          7.5000\n",
              "3          6.1397\n",
              "4          6.1397"
            ]
          },
          "metadata": {
            "tags": []
          },
          "execution_count": 49
        }
      ]
    },
    {
      "cell_type": "markdown",
      "metadata": {
        "id": "jb6U2WarosyB",
        "colab_type": "text"
      },
      "source": [
        "Not all Latitude and Longitude values are numbers. From 50573, they are strings. No necessary pattern in source for what all are given as strings. All the values given as string have source as IMD. But not all IMD given values are strings. "
      ]
    },
    {
      "cell_type": "code",
      "metadata": {
        "id": "CjV6-Pth5TIU",
        "colab_type": "code",
        "colab": {}
      },
      "source": [
        "def clean_valuesN(x):\n",
        "    \"\"\" If the value is a string, then remove currency symbol and delimiters\n",
        "    otherwise, the value is numeric and can be converted\n",
        "    \"\"\"\n",
        "    if isinstance(x, str):\n",
        "        return(x.replace(' ','').replace('ï¿½', '').replace('\\?','').replace('N',''))\n",
        "    return(x)\n",
        "\n",
        "def clean_valuesS(x):\n",
        "    \"\"\" If the value is a string, then remove currency symbol and delimiters\n",
        "    otherwise, the value is numeric and can be converted\n",
        "    \"\"\"\n",
        "    if isinstance(x, str):\n",
        "        return(x.replace(' ','').replace('ï¿½', '').replace('\\?','').replace('S',''))\n",
        "    return(x)\n",
        "\n",
        "def clean_valuesE(x):\n",
        "    \"\"\" If the value is a string, then remove currency symbol and delimiters\n",
        "    otherwise, the value is numeric and can be converted\n",
        "    \"\"\"\n",
        "    if isinstance(x, str):\n",
        "        return(x.replace(' ','').replace('ï¿½', '').replace('\\?','').replace('E',''))\n",
        "    return(x)\n",
        "\n",
        "def clean_valuesW(x):\n",
        "    \"\"\" If the value is a string, then remove currency symbol and delimiters\n",
        "    otherwise, the value is numeric and can be converted\n",
        "    \"\"\"\n",
        "    if isinstance(x, str):\n",
        "        return(x.replace(' ','').replace('ï¿½', '').replace('\\?','').replace('W',''))\n",
        "    return(x)"
      ],
      "execution_count": 66,
      "outputs": []
    },
    {
      "cell_type": "code",
      "metadata": {
        "id": "sLZmBMEKpFcI",
        "colab_type": "code",
        "colab": {
          "base_uri": "https://localhost:8080/",
          "height": 444
        },
        "outputId": "0ab32322-d8f1-4f87-a057-7c1f477ca2e9"
      },
      "source": [
        "# Handling string values in Latitudes and Longitudes.\n",
        "X['LAT (N)'] = X['LAT (N)'].apply(clean_valuesN).apply(clean_valuesS)\n",
        "X['LONG (E)'] = X['LONG (E)'].apply(clean_valuesE).apply(clean_valuesW)\n",
        "# X['LAT (N)'] = X['LAT (N)'].astype('float')\n",
        "print(X['LAT (N)'].tail())\n",
        "print(X['LONG (E)'].tail())\n",
        "# convert to csv and check to see what is the isse\n",
        "# newdt = X['LAT (N)']\n",
        "# newdt.to_csv('lat.csv')"
      ],
      "execution_count": 67,
      "outputs": [
        {
          "output_type": "stream",
          "text": [
            "52984    32.8�\n",
            "52985    25.5�\n",
            "52986    23.2�\n",
            "52987    32.8�\n",
            "52988    20.0�\n",
            "Name: LAT (N), dtype: object\n",
            "52984    78.4�\n",
            "52985    90.4�\n",
            "52986    86.5�\n",
            "52987    76.4�\n",
            "52988    72.8�\n",
            "Name: LONG (E), dtype: object\n"
          ],
          "name": "stdout"
        },
        {
          "output_type": "stream",
          "text": [
            "/usr/local/lib/python3.6/dist-packages/ipykernel_launcher.py:2: SettingWithCopyWarning: \n",
            "A value is trying to be set on a copy of a slice from a DataFrame.\n",
            "Try using .loc[row_indexer,col_indexer] = value instead\n",
            "\n",
            "See the caveats in the documentation: https://pandas.pydata.org/pandas-docs/stable/user_guide/indexing.html#returning-a-view-versus-a-copy\n",
            "  \n",
            "/usr/local/lib/python3.6/dist-packages/ipykernel_launcher.py:3: SettingWithCopyWarning: \n",
            "A value is trying to be set on a copy of a slice from a DataFrame.\n",
            "Try using .loc[row_indexer,col_indexer] = value instead\n",
            "\n",
            "See the caveats in the documentation: https://pandas.pydata.org/pandas-docs/stable/user_guide/indexing.html#returning-a-view-versus-a-copy\n",
            "  This is separate from the ipykernel package so we can avoid doing imports until\n"
          ],
          "name": "stderr"
        }
      ]
    },
    {
      "cell_type": "markdown",
      "metadata": {
        "id": "IAdWraHGdtZh",
        "colab_type": "text"
      },
      "source": [
        "Setting a random threshold of 4.5 currently and creating the prediction class. Need to do this smartly.\n"
      ]
    },
    {
      "cell_type": "code",
      "metadata": {
        "id": "2ozW-a5QdxoJ",
        "colab_type": "code",
        "colab": {
          "base_uri": "https://localhost:8080/",
          "height": 194
        },
        "outputId": "3bf56d35-1847-41b6-ac34-135935f7efea"
      },
      "source": [
        "thresh  = 4.5\n",
        "y['MAGNITUDE(Mw1)'].values[y['MAGNITUDE(Mw1)'] < thresh] = 0\n",
        "y['MAGNITUDE(Mw1)'].values[y['MAGNITUDE(Mw1)'] >= thresh ] = 1\n",
        "y.head()"
      ],
      "execution_count": 52,
      "outputs": [
        {
          "output_type": "execute_result",
          "data": {
            "text/html": [
              "<div>\n",
              "<style scoped>\n",
              "    .dataframe tbody tr th:only-of-type {\n",
              "        vertical-align: middle;\n",
              "    }\n",
              "\n",
              "    .dataframe tbody tr th {\n",
              "        vertical-align: top;\n",
              "    }\n",
              "\n",
              "    .dataframe thead th {\n",
              "        text-align: right;\n",
              "    }\n",
              "</style>\n",
              "<table border=\"1\" class=\"dataframe\">\n",
              "  <thead>\n",
              "    <tr style=\"text-align: right;\">\n",
              "      <th></th>\n",
              "      <th>MAGNITUDE(Mw1)</th>\n",
              "    </tr>\n",
              "  </thead>\n",
              "  <tbody>\n",
              "    <tr>\n",
              "      <th>0</th>\n",
              "      <td>1.0</td>\n",
              "    </tr>\n",
              "    <tr>\n",
              "      <th>1</th>\n",
              "      <td>1.0</td>\n",
              "    </tr>\n",
              "    <tr>\n",
              "      <th>2</th>\n",
              "      <td>1.0</td>\n",
              "    </tr>\n",
              "    <tr>\n",
              "      <th>3</th>\n",
              "      <td>1.0</td>\n",
              "    </tr>\n",
              "    <tr>\n",
              "      <th>4</th>\n",
              "      <td>1.0</td>\n",
              "    </tr>\n",
              "  </tbody>\n",
              "</table>\n",
              "</div>"
            ],
            "text/plain": [
              "   MAGNITUDE(Mw1)\n",
              "0             1.0\n",
              "1             1.0\n",
              "2             1.0\n",
              "3             1.0\n",
              "4             1.0"
            ]
          },
          "metadata": {
            "tags": []
          },
          "execution_count": 52
        }
      ]
    },
    {
      "cell_type": "code",
      "metadata": {
        "id": "Uao4Njd6e-dQ",
        "colab_type": "code",
        "colab": {
          "base_uri": "https://localhost:8080/",
          "height": 88
        },
        "outputId": "2057e361-ea83-4a89-b81a-4a33eba9169b"
      },
      "source": [
        "print(\"Total number of samples: \",y.size)\n",
        "print(\"Number of negative samples: \",y['MAGNITUDE(Mw1)'].value_counts()[0.0])\n",
        "print(\"Number of positive samples: \",y['MAGNITUDE(Mw1)'].value_counts()[1.0])\n",
        "print(\"Number of null values: \", y['MAGNITUDE(Mw1)'].isnull().sum())"
      ],
      "execution_count": 53,
      "outputs": [
        {
          "output_type": "stream",
          "text": [
            "Total number of samples:  52989\n",
            "Number of negative samples:  21736\n",
            "Number of positive samples:  19199\n",
            "Number of null values:  12054\n"
          ],
          "name": "stdout"
        }
      ]
    },
    {
      "cell_type": "markdown",
      "metadata": {
        "id": "b8GFxoBygiMf",
        "colab_type": "text"
      },
      "source": [
        "Dropping out all samples with nan in magnitude column"
      ]
    },
    {
      "cell_type": "code",
      "metadata": {
        "id": "ryDjYWengZJB",
        "colab_type": "code",
        "colab": {
          "base_uri": "https://localhost:8080/",
          "height": 88
        },
        "outputId": "89b1a1cb-dca6-449d-df2f-5d8691c99cb9"
      },
      "source": [
        "X = X[pd.notnull(y['MAGNITUDE(Mw1)'])]\n",
        "y = y[pd.notnull(y['MAGNITUDE(Mw1)'])]\n",
        "print(\"Total number of samples: \",y.size)\n",
        "print(\"Number of negative samples: \",y['MAGNITUDE(Mw1)'].value_counts()[0.0])\n",
        "print(\"Number of positive samples: \",y['MAGNITUDE(Mw1)'].value_counts()[1.0])\n",
        "print(\"Number of null values: \", y['MAGNITUDE(Mw1)'].isnull().sum())"
      ],
      "execution_count": 54,
      "outputs": [
        {
          "output_type": "stream",
          "text": [
            "Total number of samples:  40935\n",
            "Number of negative samples:  21736\n",
            "Number of positive samples:  19199\n",
            "Number of null values:  0\n"
          ],
          "name": "stdout"
        }
      ]
    },
    {
      "cell_type": "markdown",
      "metadata": {
        "id": "gUiuK7Aah3Ha",
        "colab_type": "text"
      },
      "source": [
        "Since the number of positive samples and negative samples are nearly equal,we need not worry about class imbalance."
      ]
    },
    {
      "cell_type": "code",
      "metadata": {
        "id": "6WDFKmxliA4y",
        "colab_type": "code",
        "colab": {
          "base_uri": "https://localhost:8080/",
          "height": 194
        },
        "outputId": "839445f6-8dd7-474b-c32a-2815986653a6"
      },
      "source": [
        "# HANDLE MISSING VALUES IN DEPTH COLUMN\n",
        "# https://www.kaggle.com/learn/data-cleaning\n",
        "# Filling with the average value for now\n",
        "mean_depth = X['DEPTH (km)'].mean()\n",
        "X['DEPTH (km)'] = X['DEPTH (km)'].fillna(mean_depth)\n",
        "X.head()"
      ],
      "execution_count": 55,
      "outputs": [
        {
          "output_type": "execute_result",
          "data": {
            "text/html": [
              "<div>\n",
              "<style scoped>\n",
              "    .dataframe tbody tr th:only-of-type {\n",
              "        vertical-align: middle;\n",
              "    }\n",
              "\n",
              "    .dataframe tbody tr th {\n",
              "        vertical-align: top;\n",
              "    }\n",
              "\n",
              "    .dataframe thead th {\n",
              "        text-align: right;\n",
              "    }\n",
              "</style>\n",
              "<table border=\"1\" class=\"dataframe\">\n",
              "  <thead>\n",
              "    <tr style=\"text-align: right;\">\n",
              "      <th></th>\n",
              "      <th>LAT (N)</th>\n",
              "      <th>LONG (E)</th>\n",
              "      <th>DEPTH (km)</th>\n",
              "    </tr>\n",
              "  </thead>\n",
              "  <tbody>\n",
              "    <tr>\n",
              "      <th>0</th>\n",
              "      <td>71</td>\n",
              "      <td>24</td>\n",
              "      <td>0.000000</td>\n",
              "    </tr>\n",
              "    <tr>\n",
              "      <th>1</th>\n",
              "      <td>71</td>\n",
              "      <td>24</td>\n",
              "      <td>0.000000</td>\n",
              "    </tr>\n",
              "    <tr>\n",
              "      <th>2</th>\n",
              "      <td>72.9</td>\n",
              "      <td>33.72</td>\n",
              "      <td>0.000000</td>\n",
              "    </tr>\n",
              "    <tr>\n",
              "      <th>3</th>\n",
              "      <td>17.3</td>\n",
              "      <td>80.1</td>\n",
              "      <td>47.063533</td>\n",
              "    </tr>\n",
              "    <tr>\n",
              "      <th>4</th>\n",
              "      <td>26</td>\n",
              "      <td>97</td>\n",
              "      <td>80.000000</td>\n",
              "    </tr>\n",
              "  </tbody>\n",
              "</table>\n",
              "</div>"
            ],
            "text/plain": [
              "  LAT (N) LONG (E)  DEPTH (km)\n",
              "0      71       24    0.000000\n",
              "1      71       24    0.000000\n",
              "2    72.9    33.72    0.000000\n",
              "3    17.3     80.1   47.063533\n",
              "4      26       97   80.000000"
            ]
          },
          "metadata": {
            "tags": []
          },
          "execution_count": 55
        }
      ]
    },
    {
      "cell_type": "code",
      "metadata": {
        "id": "_2EQGGf7im9U",
        "colab_type": "code",
        "colab": {}
      },
      "source": [
        "# Splitting the dataset into training, testing and validation sets\n",
        "X_train, X_test, y_train, y_test = train_test_split(X, y, test_size=0.2, random_state=1)\n",
        "X_train, X_val, y_train, y_val = train_test_split(X_train, y_train, test_size=0.2, random_state=1)"
      ],
      "execution_count": 56,
      "outputs": []
    },
    {
      "cell_type": "code",
      "metadata": {
        "id": "UCAvWX6Li0AI",
        "colab_type": "code",
        "colab": {
          "base_uri": "https://localhost:8080/",
          "height": 141
        },
        "outputId": "ddfc35d6-949c-4cbe-e1a6-923a1be6cec5"
      },
      "source": [
        "print(\"Number of positive samples in train set\",y_train['MAGNITUDE(Mw1)'].value_counts()[1.0])\n",
        "print(\"Number of negative samples in train set\",y_train['MAGNITUDE(Mw1)'].value_counts()[0.0])\n",
        "print(\"Number of positive samples in val set\",y_val['MAGNITUDE(Mw1)'].value_counts()[1.0])\n",
        "print(\"Number of negative samples in val set\",y_val['MAGNITUDE(Mw1)'].value_counts()[0.0])\n",
        "print(\"Number of positive samples in test set\",y_test['MAGNITUDE(Mw1)'].value_counts()[1.0])\n",
        "print(\"Number of negative samples in test set\",y_test['MAGNITUDE(Mw1)'].value_counts()[0.0])\n",
        "print(\"We can see that all the sets are fairly balanced\")"
      ],
      "execution_count": 57,
      "outputs": [
        {
          "output_type": "stream",
          "text": [
            "Number of positive samples in train set 12176\n",
            "Number of negative samples in train set 14022\n",
            "Number of positive samples in val set 3100\n",
            "Number of negative samples in val set 3450\n",
            "Number of positive samples in test set 3923\n",
            "Number of negative samples in test set 4264\n",
            "We can see that all the sets are fairly balanced\n"
          ],
          "name": "stdout"
        }
      ]
    },
    {
      "cell_type": "markdown",
      "metadata": {
        "id": "9SrBZT3AnVMe",
        "colab_type": "text"
      },
      "source": [
        "### KNN\n"
      ]
    },
    {
      "cell_type": "code",
      "metadata": {
        "id": "dGS-3Y-PkPIE",
        "colab_type": "code",
        "colab": {}
      },
      "source": [
        "knn_model = KNeighborsClassifier(n_neighbors=5)\n",
        "knn_model.fit(X_train,y_train)\n",
        "# accuracy, roc curve and other statistics"
      ],
      "execution_count": 34,
      "outputs": []
    }
  ]
}